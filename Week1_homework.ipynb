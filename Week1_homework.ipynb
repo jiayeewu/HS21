{
  "nbformat": 4,
  "nbformat_minor": 0,
  "metadata": {
    "colab": {
      "name": "Week1_homework.ipynb",
      "provenance": [],
      "collapsed_sections": [],
      "include_colab_link": true
    },
    "kernelspec": {
      "name": "python3",
      "display_name": "Python 3"
    },
    "language_info": {
      "name": "python"
    }
  },
  "cells": [
    {
      "cell_type": "markdown",
      "metadata": {
        "id": "view-in-github",
        "colab_type": "text"
      },
      "source": [
        "<a href=\"https://colab.research.google.com/github/jiayeewu/HS21---Big-Data-Analysis-in-Biomedical-Research-376-1723-00L--Public/blob/main/Week1_homework.ipynb\" target=\"_parent\"><img src=\"https://colab.research.google.com/assets/colab-badge.svg\" alt=\"Open In Colab\"/></a>"
      ]
    },
    {
      "cell_type": "markdown",
      "metadata": {
        "id": "B8Tt1eTsrju_"
      },
      "source": [
        "#### Which day of the week?"
      ]
    },
    {
      "cell_type": "markdown",
      "metadata": {
        "id": "n9VPxkCDQiC8"
      },
      "source": [
        "Create a code whose output is which day of the week is any day in 2022 (in format dd/mm).\n",
        "\n",
        "Can you use functions where useful?\n",
        "\n",
        "2022 starts on Saturday and February has 28 days"
      ]
    },
    {
      "cell_type": "code",
      "metadata": {
        "id": "yWESx5VU6dbC",
        "colab": {
          "base_uri": "https://localhost:8080/"
        },
        "outputId": "aa6371c2-143c-4a0c-dc08-94b92a734447"
      },
      "source": [
        "# exercise from last week\n",
        "days_of_the_week = ['Mon','Tue','Wed','Thr','Fri','Sat','Sun']\n",
        "months = ['01','02','03','04','05','06','07','08','09','10','11','12']\n",
        "\n",
        "# use a dictionary to input the info about the year\n",
        "year = {'week_index' : 5,\n",
        "        'year' : 2022}\n",
        "\n",
        "if year['year']%4 == 0:\n",
        "  feb=29\n",
        "else:\n",
        "  feb=28 \n",
        "\n",
        "month_length = [31, feb, 31, 30, 31, 30, 31, 31, 30, 31, 30, 31]\n",
        "total_days = sum(month_length)\n",
        "week_index = year['week_index']\n",
        "yyyy = year['year']\n",
        "day_counter = 0\n",
        "input_date = int(input(\"Give me a dd/mm date in 2022:\"))\n",
        "\n",
        "if input_date <= total_days:\n",
        "  for i, month in enumerate(months):  \n",
        "\n",
        "    for day in range(month_length[i]):\n",
        "      day_counter += 1\n",
        "      day += 1\n",
        "      if day <10:\n",
        "        day = \"0\"+ str(day)\n",
        "      weekday = days_of_the_week[week_index]\n",
        "      week_index +=1\n",
        "      if week_index == 7: \n",
        "        week_index = 0\n",
        "  \n",
        "      if day_counter == input_date:\n",
        "              break\n",
        "    if day_counter == input_date:\n",
        "      break\n",
        "\n",
        "  print('{0}/{1}/{2} is a {3}'.format(day, month, yyyy, weekday))\n",
        "\n",
        "else:\n",
        "  print('day does not exist! there is 365 days in 2022')"
      ],
      "execution_count": null,
      "outputs": [
        {
          "output_type": "stream",
          "name": "stdout",
          "text": [
            "Give me a dd/mm date in 2022:550\n",
            "day does not exist! there is 365 days in 2022\n"
          ]
        }
      ]
    },
    {
      "cell_type": "code",
      "metadata": {
        "colab": {
          "base_uri": "https://localhost:8080/"
        },
        "id": "5KbMBgFzQfEA",
        "outputId": "754d3b1b-335f-407e-baf0-bf94a13b14a3"
      },
      "source": [
        "# output of the code"
      ],
      "execution_count": null,
      "outputs": [
        {
          "output_type": "stream",
          "name": "stdout",
          "text": [
            "Give me a dd/mm date in 2022: 24/09\n",
            "24/09/2022 is a Sat\n"
          ]
        }
      ]
    },
    {
      "cell_type": "code",
      "metadata": {
        "id": "nAs5I_oQRpfN",
        "colab": {
          "base_uri": "https://localhost:8080/"
        },
        "outputId": "dacc4700-d901-4b61-e499-e15ccc15713e"
      },
      "source": [
        "# homework\n",
        "\n",
        "days_of_the_week = ['Mon','Tue','Wed','Thr','Fri','Sat','Sun']\n",
        "months = ['01','02','03','04','05','06','07','08','09','10','11','12']\n",
        "\n",
        "# use a dictionary to input the info about the year\n",
        "year = {'week_index' : 5,\n",
        "        'year' : 2022}\n",
        "\n",
        "#Find out if feb of the year is 28 or 29 days\n",
        "if year['year']%4 == 0:\n",
        "  feb=29\n",
        "else:\n",
        "  feb=28 \n",
        "\n",
        "month_length = [31, feb, 31, 30, 31, 30, 31, 31, 30, 31, 30, 31]\n",
        "total_days = sum(month_length)\n",
        "week_index = year['week_index']\n",
        "yyyy = year['year']\n",
        "input_date = str(input(\"Give me a date in 2022 in dd/mm format: \"))\n",
        "\n",
        "#to create a calendar\n",
        "dd_mm_365 = []\n",
        "for i, month in enumerate(months):  \n",
        "\n",
        "  for day in range(month_length[i]):\n",
        "    day = int(day)\n",
        "    day += 1\n",
        "    \n",
        "    weekday = days_of_the_week[week_index]\n",
        "    week_index += 1\n",
        "    if week_index == 7:\n",
        "        week_index = 0\n",
        "\n",
        "    #add zero to date 1-9 to become 01-09\n",
        "    if day <10:\n",
        "      day = \"0\" + str(day)\n",
        "    else: \n",
        "      day = str(day)\n",
        "      \n",
        "    #convert day and month into dd/mm format (for matching purpose) and create a list of all days in a year\n",
        "    dd_mm = day +\"/\"+ month    \n",
        "    dd_mm_365.append(dd_mm)\n",
        "\n",
        "    # Matching input and date\n",
        "    if str(input_date) == str(dd_mm):\n",
        "      print('{0}/{1}/{2} is a {3}'.format(day, month, yyyy, weekday)) \n",
        "      break\n",
        "    \n",
        "# dealing with wrong date\n",
        "if str(input_date) in dd_mm_365:\n",
        "  pass\n",
        "else:\n",
        "  print('check date format(dd/mm), day does not exist!')\n"
      ],
      "execution_count": null,
      "outputs": [
        {
          "output_type": "stream",
          "name": "stdout",
          "text": [
            "Give me a date in 2022 in dd/mm format: 20/20\n",
            "check date format(dd/mm), day does not exist!\n"
          ]
        }
      ]
    }
  ]
}